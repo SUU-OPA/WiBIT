{
 "cells": [
  {
   "cell_type": "code",
   "execution_count": null,
   "metadata": {
    "collapsed": true
   },
   "outputs": [],
   "source": [
    "from OSMPythonTools.api import Api\n",
    "from OSMPythonTools.nominatim import Nominatim\n",
    "from OSMPythonTools.overpass import overpassQueryBuilder, Overpass"
   ]
  },
  {
   "cell_type": "code",
   "execution_count": null,
   "outputs": [],
   "source": [
    "nominatim = Nominatim()\n",
    "cracow = nominatim.query('Kraków, Poland')\n",
    "city = nominatim.query('Małopolska, Poland')"
   ],
   "metadata": {
    "collapsed": false
   }
  },
  {
   "cell_type": "code",
   "execution_count": null,
   "outputs": [],
   "source": [
    "selectors = [['\"tourism\"=\"museum\"'],\n",
    "            ['\"tourism\"=\"gallery\"'],\n",
    "             ['\"tourism\"=\"aquarium\"'],\n",
    "             ['\"tourism\"=\"artwork\"'],\n",
    "             ['\"tourism\"=\"theme_park\"'],\n",
    "             ['\"tourism\"=\"viewpoint\"'],\n",
    "             ['\"tourism\"=\"zoo\"'],\n",
    "             ['\"heritage\"=\"2\"'],\n",
    "             ['\"historic\"=\"building\"'],\n",
    "             ['\"historic\"=\"castle\"'],\n",
    "             ['\"historic\"=\"city_gate\"'],\n",
    "             ['\"leisure\"=\"firepit\"'],\n",
    "             ['\"leisure\"=\"fishing\"'],\n",
    "             ['\"leisure\"=\"garden\"'],\n",
    "             ['\"leisure\"=\"water_park\"'],\n",
    "             ['\"memorial\"=\"statue\"'],\n",
    "             ['\"military\"=\"bunker\"'],\n",
    "             ['\"natural\"=\"peak\"']]\n",
    "overpass = Overpass()\n",
    "query = overpassQueryBuilder(area=city.areaId(), elementType=['node', 'way'], selector=selectors[0], out='body')\n",
    "res = overpass.query(query)\n"
   ],
   "metadata": {
    "collapsed": false
   }
  },
  {
   "cell_type": "code",
   "execution_count": null,
   "outputs": [],
   "source": [
    "print(list(map(lambda x: x.tag('name'), res.elements())))\n"
   ],
   "metadata": {
    "collapsed": false
   }
  },
  {
   "cell_type": "code",
   "execution_count": null,
   "outputs": [],
   "source": [
    "res.toJSON()['elements'][0]"
   ],
   "metadata": {
    "collapsed": false
   }
  },
  {
   "cell_type": "code",
   "execution_count": null,
   "outputs": [],
   "source": [
    "overpass = Overpass()\n",
    "query = overpassQueryBuilder(area=city.areaId(), elementType=['node', 'way'], selector=['\"religion\"~\".*\"'], out='body')\n",
    "res = overpass.query(query)\n",
    "print(list(map(lambda x: x.tag('name'), res.elements())))\n"
   ],
   "metadata": {
    "collapsed": false
   }
  },
  {
   "cell_type": "code",
   "execution_count": null,
   "outputs": [],
   "source": [
    "print(list(map(lambda x: x.tag('opening_hours'), res.elements())))\n"
   ],
   "metadata": {
    "collapsed": false
   }
  },
  {
   "cell_type": "code",
   "execution_count": null,
   "outputs": [],
   "source": [
    "print(res.elements()[0].type())\n",
    "print(res.elements()[0].id())\n",
    "print(res.elements()[0].tags())\n"
   ],
   "metadata": {
    "collapsed": false
   }
  },
  {
   "cell_type": "code",
   "execution_count": null,
   "outputs": [],
   "source": [
    "api = Api()\n",
    "\n",
    "node = api.query('way/85151350')\n",
    "print(node.tags())\n"
   ],
   "metadata": {
    "collapsed": false
   }
  },
  {
   "cell_type": "code",
   "execution_count": null,
   "outputs": [],
   "source": [
    "from pyvis.network import Network"
   ],
   "metadata": {
    "collapsed": false
   }
  },
  {
   "cell_type": "code",
   "execution_count": null,
   "outputs": [],
   "source": [
    "def show_graph():\n",
    "    N = Network(notebook=True)\n",
    "    for cat in range(len(categories)):\n",
    "        N.add_node(cat, categories[cat].get(\"name\"))\n",
    "        sub = categories[cat].get(\"sub_categories\")\n",
    "        for sub_cat in range(len(sub)):\n",
    "            N.add_node(sub_cat, sub[sub_cat].get(\"name\"))\n",
    "\n",
    "    for cat in range(len(categories)):\n",
    "        sub = categories[cat].get(\"sub_categories\")\n",
    "        for sub_cat in range(len(sub)):\n",
    "            N.add_edge(cat, sub_cat, weight=1)\n",
    "        for other in range(len(categories)):\n",
    "            if cat != other:\n",
    "                N.add_edge(cat, other, weight=5)\n",
    "\n",
    "    N.toggle_physics(True)\n",
    "    N.show(\"categories_graph.html\")\n"
   ],
   "metadata": {
    "collapsed": false
   }
  },
  {
   "cell_type": "code",
   "execution_count": null,
   "outputs": [],
   "source": [
    "from category import categories\n",
    "from models.mongo_utils import MongoUtils\n",
    "\n",
    "print(categories)"
   ],
   "metadata": {
    "collapsed": false
   }
  },
  {
   "cell_type": "code",
   "execution_count": null,
   "outputs": [],
   "source": [
    "client: MongoUtils = MongoUtils()\n",
    "\n",
    "db = client.get_db()\n",
    "collection = db[\"categories-graph\"]\n",
    "collection2 = db[\"categories\"]\n",
    "\n",
    "max_sub = 0\n",
    "for cat in categories:\n",
    "    if cat.get(\"sub_categories\") is None:\n",
    "        print(f\"A category {cat.get('name')} does not have subcategories\")\n",
    "        continue\n",
    "    if len(cat.get(\"sub_categories\")) > max_sub:\n",
    "        max_sub = len(cat.get(\"sub_categories\"))\n",
    "\n",
    "max_sub += 1\n",
    "for i in range(len(categories)):\n",
    "    cat = categories[i]\n",
    "    if cat.get('additional_codes') is not None:\n",
    "        collection2.insert_one({\n",
    "            'id': i*max_sub,\n",
    "            'name': cat.get('name'),\n",
    "            'code': cat.get('code'),\n",
    "            'visiting_time': cat.get(\"visiting_time\"),\n",
    "            'additional_codes': cat.get('additional_codes')})\n",
    "    else:\n",
    "        collection2.insert_one({\n",
    "            'id': i*max_sub,\n",
    "            'name': cat.get('name'),\n",
    "            'code': cat.get('code'),\n",
    "            'visiting_time': cat.get(\"visiting_time\")})\n",
    "\n",
    "    sub = cat.get(\"sub_categories\")\n",
    "    if cat.get(\"sub_categories\") is None: continue\n",
    "\n",
    "    for j in range(len(sub)):\n",
    "        sub_cat = sub[j]\n",
    "        if sub_cat.get('additional_codes') is not None:\n",
    "            collection2.insert_one({\n",
    "                'id': i*max_sub+j+1,\n",
    "                'name': sub_cat.get('name'),\n",
    "                'code': sub_cat.get('code'),\n",
    "                'visiting_time': cat.get(\"visiting_time\"),\n",
    "                'additional_codes': sub_cat.get('additional_codes')})\n",
    "        else:\n",
    "            collection2.insert_one({\n",
    "                'id': i*max_sub+j+1,\n",
    "                'name': sub_cat.get('name'),\n",
    "                'code': sub_cat.get('code'),\n",
    "                'visiting_time': cat.get(\"visiting_time\"),})\n",
    "\n",
    "for cat in range(len(categories)):\n",
    "    sub = categories[cat].get(\"sub_categories\")\n",
    "    for other in range(cat+1, len(categories)):\n",
    "        collection.insert_one({'from': categories[cat].get(\"name\"), 'from_id': cat*max_sub,\n",
    "                               'to':categories[other].get(\"name\"), 'to_id': other*max_sub,\n",
    "                               'weight': 5})\n",
    "    if sub is None: continue\n",
    "    for sub_cat in range(len(sub)):\n",
    "        collection.insert_one({'from': categories[cat].get(\"name\"), 'from_id': cat*max_sub,\n",
    "                               'to':sub[sub_cat].get(\"name\"), 'to_id': cat*max_sub + sub_cat + 1,\n",
    "                               'weight': 1})\n",
    "\n"
   ],
   "metadata": {
    "collapsed": false
   }
  },
  {
   "cell_type": "code",
   "execution_count": null,
   "outputs": [],
   "source": [
    "from mongo_utils import MongoUtils"
   ],
   "metadata": {
    "collapsed": false
   }
  },
  {
   "cell_type": "code",
   "execution_count": null,
   "outputs": [],
   "source": [
    "db = MongoUtils()\n",
    "v2 = db.get_collection('cracow-attractions-v2').find()\n",
    "v3 = db.get_collection('cracow-attractions-v3')\n",
    "\n",
    "xids = []\n",
    "for i in v2:\n",
    "    if i['xid'] not in xids:\n",
    "        pass# v3.insert_one(i)\n",
    "    xids.append(i['xid'])"
   ],
   "metadata": {
    "collapsed": false
   }
  },
  {
   "cell_type": "code",
   "execution_count": null,
   "outputs": [],
   "source": [
    "from OSMPythonTools.nominatim import Nominatim\n",
    "from OSMPythonTools.overpass import overpassQueryBuilder, Overpass"
   ],
   "metadata": {
    "collapsed": false
   }
  },
  {
   "cell_type": "code",
   "execution_count": null,
   "outputs": [],
   "source": [
    "overpass = Overpass()\n",
    "nominatim = Nominatim()\n",
    "cracow = nominatim.query('Kraków, Poland')\n",
    "selectors = [['\"tourism\"=\"museum\"'],\n",
    "             ['\"tourism\"=\"gallery\"'],\n",
    "             ['\"tourism\"=\"aquarium\"'],\n",
    "             ['\"tourism\"=\"artwork\"'],\n",
    "             ['\"tourism\"=\"theme_park\"'],\n",
    "             ['\"tourism\"=\"viewpoint\"'],\n",
    "             ['\"tourism\"=\"zoo\"'],\n",
    "             ['\"heritage\"=\"2\"'],\n",
    "             ['\"historic\"=\"building\"'],\n",
    "             ['\"historic\"=\"castle\"'],\n",
    "             ['\"historic\"=\"city_gate\"'],\n",
    "             ['\"leisure\"=\"firepit\"'],\n",
    "             ['\"leisure\"=\"fishing\"'],\n",
    "             ['\"leisure\"=\"garden\"'],\n",
    "             ['\"leisure\"=\"water_park\"'],\n",
    "             ['\"memorial\"=\"statue\"'],\n",
    "             ['\"military\"=\"bunker\"'],\n",
    "             ['\"natural\"=\"peak\"']]\n",
    "\n",
    "v2 = db.get_collection('cracow-attractions-v2')\n",
    "v4 = db.get_collection('cracow-attractions-v4')\n",
    "for selector in selectors:\n",
    "    query = overpassQueryBuilder(area=cracow.areaId(), elementType=['node', 'way'], selector=selector,\n",
    "                                 out='body')\n",
    "    res = overpass.query(query)\n",
    "    count = 0\n",
    "    for element in res.elements():\n",
    "        osm = f\"{element.type()}/{element.id()}\"\n",
    "        el = v2.find_one({\"osm\": osm})\n",
    "        if el is None:\n",
    "            count += 1\n",
    "    print(count)\n"
   ],
   "metadata": {
    "collapsed": false
   }
  },
  {
   "cell_type": "code",
   "execution_count": null,
   "outputs": [],
   "source": [],
   "metadata": {
    "collapsed": false
   }
  }
 ],
 "metadata": {
  "kernelspec": {
   "display_name": "Python 3",
   "language": "python",
   "name": "python3"
  },
  "language_info": {
   "codemirror_mode": {
    "name": "ipython",
    "version": 2
   },
   "file_extension": ".py",
   "mimetype": "text/x-python",
   "name": "python",
   "nbconvert_exporter": "python",
   "pygments_lexer": "ipython2",
   "version": "2.7.6"
  }
 },
 "nbformat": 4,
 "nbformat_minor": 0
}
